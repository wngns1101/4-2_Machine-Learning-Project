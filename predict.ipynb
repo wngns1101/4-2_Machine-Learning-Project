{
 "cells": [
  {
   "metadata": {
    "ExecuteTime": {
     "end_time": "2024-12-03T09:14:10.150413Z",
     "start_time": "2024-12-03T09:14:08.144191Z"
    }
   },
   "cell_type": "code",
   "source": [
    "import pandas as pd\n",
    "import torch\n",
    "from sklearn.metrics import mean_squared_error, r2_score\n",
    "from sklearn.model_selection import train_test_split\n",
    "import utils as util\n",
    "import linearModel\n",
    "import numpy as np"
   ],
   "id": "80bd06e3f9c0ebef",
   "outputs": [],
   "execution_count": 1
  },
  {
   "metadata": {
    "ExecuteTime": {
     "end_time": "2024-12-03T09:14:11.976749Z",
     "start_time": "2024-12-03T09:14:11.934185Z"
    }
   },
   "cell_type": "code",
   "source": [
    "# 데이터 로드\n",
    "data = pd.read_csv(\"./data/final_data.csv\")\n",
    "\n",
    "# 데이터 정보\n",
    "print(data.info())"
   ],
   "id": "7aba7f7ae93c0c6",
   "outputs": [
    {
     "name": "stdout",
     "output_type": "stream",
     "text": [
      "<class 'pandas.core.frame.DataFrame'>\n",
      "RangeIndex: 10754 entries, 0 to 10753\n",
      "Data columns (total 22 columns):\n",
      " #   Column               Non-Null Count  Dtype  \n",
      "---  ------               --------------  -----  \n",
      " 0   player               10754 non-null  object \n",
      " 1   team                 10754 non-null  object \n",
      " 2   name                 10754 non-null  object \n",
      " 3   position             10754 non-null  object \n",
      " 4   height               10754 non-null  float64\n",
      " 5   age                  10754 non-null  float64\n",
      " 6   appearance           10754 non-null  int64  \n",
      " 7   goals                10754 non-null  float64\n",
      " 8   assists              10754 non-null  float64\n",
      " 9   yellow cards         10754 non-null  float64\n",
      " 10  second yellow cards  10754 non-null  float64\n",
      " 11  red cards            10754 non-null  float64\n",
      " 12  goals conceded       10754 non-null  float64\n",
      " 13  clean sheets         10754 non-null  float64\n",
      " 14  minutes played       10754 non-null  int64  \n",
      " 15  days_injured         10754 non-null  int64  \n",
      " 16  games_injured        10754 non-null  int64  \n",
      " 17  award                10754 non-null  int64  \n",
      " 18  highest_value        10754 non-null  int64  \n",
      " 19  position_encoded     10754 non-null  int64  \n",
      " 20  winger               10754 non-null  int64  \n",
      " 21  current_value        10754 non-null  int64  \n",
      "dtypes: float64(9), int64(9), object(4)\n",
      "memory usage: 1.8+ MB\n",
      "None\n"
     ]
    }
   ],
   "execution_count": 2
  },
  {
   "metadata": {
    "ExecuteTime": {
     "end_time": "2024-12-03T09:14:13.437702Z",
     "start_time": "2024-12-03T09:14:13.430560Z"
    }
   },
   "cell_type": "code",
   "source": [
    "# 데이터 요약\n",
    "print(data.tail())"
   ],
   "id": "4aa03e1d05cdb6fb",
   "outputs": [
    {
     "name": "stdout",
     "output_type": "stream",
     "text": [
      "                                          player                      team  \\\n",
      "10749       /aidan-simmons/profil/spieler/867763  Western Sydney Wanderers   \n",
      "10750        /kusini-yengi/profil/spieler/708099  Western Sydney Wanderers   \n",
      "10751    /nathanael-blair/profil/spieler/1023268  Western Sydney Wanderers   \n",
      "10752    /zachary-sapsford/profil/spieler/703657  Western Sydney Wanderers   \n",
      "10753  /alexander-badolato/profil/spieler/957230  Western Sydney Wanderers   \n",
      "\n",
      "                     name               position      height   age  \\\n",
      "10749       Aidan Simmons     Attack-RightWinger  181.240353  20.0   \n",
      "10750        Kusini Yengi  Attack Centre-Forward  190.000000  24.0   \n",
      "10751     Nathanael Blair  Attack Centre-Forward  181.240353  19.0   \n",
      "10752    Zachary Sapsford  Attack Centre-Forward  181.240353  20.0   \n",
      "10753  Alexander Badolato  Attack Centre-Forward  170.000000  18.0   \n",
      "\n",
      "       appearance     goals   assists  yellow cards  ...  goals conceded  \\\n",
      "10749          16  0.175953  0.087977      0.263930  ...             0.0   \n",
      "10750          26  0.372671  0.186335      0.186335  ...             0.0   \n",
      "10751          20  0.375000  0.000000      0.187500  ...             0.0   \n",
      "10752          17  0.312139  0.104046      0.000000  ...             0.0   \n",
      "10753          21  0.000000  0.000000      0.086042  ...             0.0   \n",
      "\n",
      "       clean sheets  minutes played  days_injured  games_injured  award  \\\n",
      "10749           0.0            1023             0              0      0   \n",
      "10750           0.0            1449           102             18      0   \n",
      "10751           0.0             960             0              0      0   \n",
      "10752           0.0             865             0              0      0   \n",
      "10753           0.0            1046             0              0      0   \n",
      "\n",
      "       highest_value  position_encoded  winger  current_value  \n",
      "10749          75000                 4       1          75000  \n",
      "10750         300000                 4       0         300000  \n",
      "10751          50000                 4       0          50000  \n",
      "10752          50000                 4       0          50000  \n",
      "10753          25000                 4       0          25000  \n",
      "\n",
      "[5 rows x 22 columns]\n"
     ]
    }
   ],
   "execution_count": 3
  },
  {
   "metadata": {
    "ExecuteTime": {
     "end_time": "2024-12-03T09:14:14.551221Z",
     "start_time": "2024-12-03T09:14:14.545002Z"
    }
   },
   "cell_type": "code",
   "source": "print(data.isnull().sum())",
   "id": "94e32d5407da6ae",
   "outputs": [
    {
     "name": "stdout",
     "output_type": "stream",
     "text": [
      "player                 0\n",
      "team                   0\n",
      "name                   0\n",
      "position               0\n",
      "height                 0\n",
      "age                    0\n",
      "appearance             0\n",
      "goals                  0\n",
      "assists                0\n",
      "yellow cards           0\n",
      "second yellow cards    0\n",
      "red cards              0\n",
      "goals conceded         0\n",
      "clean sheets           0\n",
      "minutes played         0\n",
      "days_injured           0\n",
      "games_injured          0\n",
      "award                  0\n",
      "highest_value          0\n",
      "position_encoded       0\n",
      "winger                 0\n",
      "current_value          0\n",
      "dtype: int64\n"
     ]
    }
   ],
   "execution_count": 4
  },
  {
   "metadata": {
    "ExecuteTime": {
     "end_time": "2024-12-03T09:14:15.970528Z",
     "start_time": "2024-12-03T09:14:15.964066Z"
    }
   },
   "cell_type": "code",
   "source": [
    "# 데이터 전처리\n",
    "print(f\"이전 데이터 data 개수: {data.shape}\")\n",
    "\n",
    "x, y = util.preprocess_data(data)\n",
    "\n",
    "print(f\"전처리 후 x data 개수: {x.shape}\")\n",
    "print(f\"전처리 후 y data 개수: {y.shape}\")"
   ],
   "id": "6f6576117438ad32",
   "outputs": [
    {
     "name": "stdout",
     "output_type": "stream",
     "text": [
      "이전 데이터 data 개수: (10754, 22)\n",
      "전처리 후 x data 개수: (2902, 14)\n",
      "전처리 후 y data 개수: (2902,)\n"
     ]
    }
   ],
   "execution_count": 5
  },
  {
   "metadata": {
    "ExecuteTime": {
     "end_time": "2024-12-03T09:14:17.684312Z",
     "start_time": "2024-12-03T09:14:17.680454Z"
    }
   },
   "cell_type": "code",
   "source": [
    "# 데이터 정규화\n",
    "x_scaled, y_scaled, scaler_x, scaler_y = util.standardize_data(x, y)"
   ],
   "id": "cf2a50307684dbd6",
   "outputs": [],
   "execution_count": 6
  },
  {
   "metadata": {
    "ExecuteTime": {
     "end_time": "2024-12-03T09:14:19.024356Z",
     "start_time": "2024-12-03T09:14:19.007562Z"
    }
   },
   "cell_type": "code",
   "source": [
    "# 학습/테스트 데이터 분리\n",
    "x_train, x_test, y_train, y_test = train_test_split(x_scaled, y_scaled, test_size=0.2, random_state=42)\n",
    "\n",
    "print(x_train.shape)\n",
    "print(y_train.shape)\n",
    "print(x_test.shape)\n",
    "print(y_test.shape)\n",
    "\n",
    "# 8. 데이터를 PyTorch 텐서로 변환\n",
    "x_train_tensor = torch.tensor(x_train, dtype=torch.float32)\n",
    "y_train_tensor = torch.tensor(y_train, dtype=torch.float32).view(-1, 1)\n",
    "x_test_tensor = torch.tensor(x_test, dtype=torch.float32)\n",
    "y_test_tensor = torch.tensor(y_test, dtype=torch.float32).view(-1, 1)"
   ],
   "id": "78ab2bdb1ffc7e03",
   "outputs": [
    {
     "name": "stdout",
     "output_type": "stream",
     "text": [
      "(2321, 14)\n",
      "(2321, 1)\n",
      "(581, 14)\n",
      "(581, 1)\n"
     ]
    }
   ],
   "execution_count": 7
  },
  {
   "metadata": {
    "ExecuteTime": {
     "end_time": "2024-12-03T09:14:20.351744Z",
     "start_time": "2024-12-03T09:14:20.338286Z"
    }
   },
   "cell_type": "code",
   "source": [
    "# 모델 불러오기\n",
    "input_dim = x_train_tensor.shape[1]\n",
    "model = linearModel.LinearModel(input_dim=input_dim)\n",
    "model.load_state_dict(torch.load(\"./model/model.pth\", weights_only=True))\n",
    "model.eval()"
   ],
   "id": "425254f2e32c100f",
   "outputs": [
    {
     "data": {
      "text/plain": [
       "LinearModel(\n",
       "  (hidden1): Linear(in_features=14, out_features=128, bias=True)\n",
       "  (hidden2): Linear(in_features=128, out_features=64, bias=True)\n",
       "  (output): Linear(in_features=64, out_features=1, bias=True)\n",
       "  (relu): ReLU()\n",
       ")"
      ]
     },
     "execution_count": 8,
     "metadata": {},
     "output_type": "execute_result"
    }
   ],
   "execution_count": 8
  },
  {
   "metadata": {
    "ExecuteTime": {
     "end_time": "2024-12-03T09:14:21.486002Z",
     "start_time": "2024-12-03T09:14:21.471422Z"
    }
   },
   "cell_type": "code",
   "source": [
    "with torch.no_grad():\n",
    "    y_pred_test = model(x_test_tensor)"
   ],
   "id": "d67560125cbd01d0",
   "outputs": [],
   "execution_count": 9
  },
  {
   "metadata": {
    "ExecuteTime": {
     "end_time": "2024-12-03T09:14:22.910557Z",
     "start_time": "2024-12-03T09:14:22.797421Z"
    }
   },
   "cell_type": "code",
   "source": [
    "# 예측 값을 실제 값으로 변환\n",
    "y_pred_test_original = scaler_y.inverse_transform(y_pred_test)\n",
    "y_test_original = scaler_y.inverse_transform(y_test_tensor)\n",
    "\n",
    "mse = mean_squared_error(y_test_original, y_pred_test_original)\n",
    "r2 = r2_score(y_test_original, y_pred_test_original)\n",
    "rmse = np.sqrt(mse)\n",
    "\n",
    "print(f\"Test MSE: {mse:.4f}\")\n",
    "print(f\"RMSE: {rmse:.4f}\")\n",
    "print(f\"Test R²: {r2:.4f}\")\n",
    "\n",
    "# 결과 시각화\n",
    "util.plot_prediction_result(y_test_original, y_pred_test_original)"
   ],
   "id": "5f1ab71cfe50fc6a",
   "outputs": [
    {
     "name": "stdout",
     "output_type": "stream",
     "text": [
      "Test MSE: 6996715620210.2520\n",
      "RMSE: 2645130.5488\n",
      "Test R²: 0.9154\n"
     ]
    },
    {
     "data": {
      "text/plain": [
       "<Figure size 1000x600 with 1 Axes>"
      ],
      "image/png": "[encoded data removed]"
     },
     "metadata": {},
     "output_type": "display_data"
    }
   ],
   "execution_count": 10
  }
 ],
 "metadata": {
  "kernelspec": {
   "name": "python3",
   "language": "python",
   "display_name": "Python 3 (ipykernel)"
  }
 },
 "nbformat": 5,
 "nbformat_minor": 9
}
